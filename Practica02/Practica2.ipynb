{
 "cells": [
  {
   "cell_type": "markdown",
   "metadata": {},
   "source": [
    "#TXINE. Práctica2: Web Scraping\n",
    "### Adolfo Núñez Fernández, Outono 2015 \n",
    "## Requisitos\n",
    "\n",
    "Extraer da web de referencia http://www.invertia.com/mercados/bolsa/indices/ibex-35/acciones-ib011ibex35 as cotizacións publicadas das empresas do IBEX35. O programa terá dous modos de operación:\n",
    "* Escritura por pantalla ou a ficheiro de todas as cotizacións extraídas e os seus datos asociados.\n",
    "* Monitorización cada X segundos dun determinado valor bursatil a partires do identificador proporcionado polo usuario.\n",
    "\n",
    "## Explicación do código\n",
    "\n",
    "O programa estructúrase a partires dun **main** que ofrece un menú de opcións ao usuario e funcións que realizan as operacións solicitadas. A continuación amósase a súa organización e funcionamiento. \n",
    "\n",
    "### Imports\n",
    "\n"
   ]
  },
  {
   "cell_type": "code",
   "execution_count": null,
   "metadata": {
    "collapsed": true
   },
   "outputs": [],
   "source": [
    "from bs4 import BeautifulSoup\n",
    "import pandas as pd\n",
    "import requests\n",
    "import time"
   ]
  },
  {
   "cell_type": "markdown",
   "metadata": {
    "collapsed": true
   },
   "source": [
    "As librarías empregadas son:\n",
    "\n",
    "**BeautifulSoup:** Para extraer datos de ficheiros HTML e XML.\n",
    "\n",
    "**pandas:** Para traballar con estruturas de datos flexibles.\n",
    "\n",
    "**requests:** Permite obter o código dunha páxina mediante unha petición.\n",
    "\n",
    "**time:** Libraría estandar de python para traballar coa data actual do sistema e facer pausas na execución.\n",
    "\n",
    "\n",
    "\n",
    "### Main e función menu()\n",
    "\n",
    "A función **main** permite a interacción do usuario co programa a través dun menú de catro opcións:\n",
    "* [1] Escritura das cotizacións na pantalla.\n",
    "* [2] Gardado das cotizacións a ficheiro **.csv**.  \n",
    "* [3] Monitorización dun valor bursátil introducido polo usuario consultado cada X segundos, sendo X un valor introducido polo usuario.\n",
    "* [4] Saída do programa.\n",
    "\n",
    "O programa principal presenta o menú mentres non se escolle algunha das opcións válidas. \n",
    "\n",
    "Para a opción 1, o programa chama á función **getBolsa()** e imprime por pantalla o resultado.\n",
    "\n",
    "Na segunda opción, o programa obtén igualmente os resultados mediante a función **getBolsa()**, e despois solicítalle ao usuario que proporcione o nome do ficheiro onde quere almacenar os datos. Se o usuario non proporciona ningún, automáticamente créase un por defecto (bolsa_YYmmdd_HHMMSS, sendo YY, mm, dd, HH, MM e SS ano, mes, día, hora, minutos e segundos respectivamente). Finalmente realízase o gardado do dataframe no ficheiro, notificando ao usuario oa fin da operación por pantalla.\n",
    "\n",
    "A terceira opción solicítalle ao usuario o nome do valor bursátil que desexa consultar e máis o intervalo de tempo en segundos que empregará para obter os datos (pedirá o valor ata que o usuario introduza un número superior a 5 segundos). Antes de empezar a obter os valores coa periodicidade indicada, o usuario é notificado de que para saír do proceso de amosado de datos deberá premer as teclas **Ctrl+c**, voltando deste xeito de novo ao menú principal da aplicación. Cos datos de valor bursátil e período de tempo, o programa consulta con dita periodicidade os datos da url, buscando mediante a función ** getIdentificadorBursatil(valor)** os correspondentes ao indicador solicitado. Os resultados amósanse consecutivamente por pantalla en caso de atoparse o índice. En caso contrario, notifícaselle a súa ausencia ao usuario, tamén por pantalla.\n",
    "\n",
    "A opción 4 remata a execución do programa, presentando unha mensaxe de despedida por pantalla. "
   ]
  },
  {
   "cell_type": "code",
   "execution_count": null,
   "metadata": {
    "collapsed": true
   },
   "outputs": [],
   "source": [
    "def menu():\n",
    "    print(\"\\nEscolla unha opción:\\n\\\n",
    "    [1] Cotización por pantalla\\n\\\n",
    "    [2] Cotización a fichero\\n\\\n",
    "    [3] Cotización dun valor concreto\\n\\\n",
    "    [4] Saír\")\n",
    "\n",
    "if __name__ == \"__main__\":\n",
    "    ''' Programa principal. Chamada ao menú de opcións '''\n",
    "\n",
    "    # Opción inicial para que entre no bucle\n",
    "    opcion = 0\n",
    "    \n",
    "    while opcion != 4:\n",
    "        if opcion == 1: # escritura por pantalla\n",
    "            df = getBolsa()\n",
    "            print(df)\n",
    "            \n",
    "        elif opcion == 2: # escritura a ficheiro\n",
    "            df = getBolsa()            \n",
    "\n",
    "            # O usuario pode seleccionar o nome do ficheiro CSV\n",
    "            fname = input('Nome do ficheiro: ')\n",
    "            if len(fname) == 0:\n",
    "                fname = \"bolsa_{0}.csv\".format(time.strftime(\"%Y%m%d_%H%M%S\"))\n",
    "            else:\n",
    "                fname += '.csv'\n",
    "            df.to_csv(fname)\n",
    "                \n",
    "            print('Táboa de valores gardada correctamente no ficheiro '\\\n",
    "            '\"{0}\"'.format(fname))\n",
    "\n",
    "        elif opcion == 3: # Consulta cada X segs\n",
    "            valor = input('Identificador do valor '\\\n",
    "            'bursatil que desexa consultar:')\n",
    "            \n",
    "            segundos = 0\n",
    "\n",
    "            # O usuario é forzado a facer unha consulta cun retardo mínimo\n",
    "            while segundos < 5:\n",
    "                segundos = int(input('Periodicidade (s) [mínimo 5 segundos]:'))\n",
    "\n",
    "            print('Prema \"Ctrl+c\" se desexa voltar ao menú')\n",
    "            \n",
    "            # Se existe o índice, devolvemos so seus valores cada X segundos\n",
    "            try:\n",
    "                while getIdentificadorBursatil(valor):            \n",
    "                    time.sleep(segundos)\n",
    "            except KeyboardInterrupt:\n",
    "                pass\n",
    "        else:\n",
    "            pass\n",
    "     \n",
    "        #chamada ao menú\n",
    "        menu()\n",
    "        # Recóllese a opción do usuario\n",
    "        opcion = int(input('Opción: '))\n",
    "        \n",
    "    if opcion == 4:\n",
    "        print(\"Adeus\")\n"
   ]
  },
  {
   "cell_type": "markdown",
   "metadata": {},
   "source": [
    "### Función getBolsa()\n",
    "\n",
    "Obtén as cotizacións de bolsa a partires da url de referencia. Coa libraría **requests** (http://docs.python-requests.org/en/latest/) obtense o texto da páxina, e mediante o uso da libraría **BeautifulSoup** (http://www.crummy.com/software/BeautifulSoup/bs4/doc/#) fanse búscas no HTML obtido.\n",
    "\n",
    "O comportamento da función é o seguinte: recuperar a información desexada eliminando columnas con datos gráficos e limpando o texto. Para iso o que se fai é obter a táboa do HTML mediante **BeautifulSoup**. A partires de ahí faise unha busca das filas (etiquetas **tr**) e para cada unha delas faise unha busca das celas (elementos con etiqueta **td**), agás na primeira fila, que contén as cabeceiras da táboa (elementos **th**). A idea é, a medida que se percorren as filas, almacenar contidos das celas nun obxecto lista distinto, creando ao final unha estructura de datos \"táboa\", que será unha lista de listas python. Para mellor manexo desta estructura de datos, finalmente convértese a un **DataFrame** coa axuda da libraría **pandas**, e este será o obxecto que devolva a función.    "
   ]
  },
  {
   "cell_type": "code",
   "execution_count": null,
   "metadata": {
    "collapsed": true
   },
   "outputs": [],
   "source": [
    "def getBolsa():\n",
    "    ''' \n",
    "    Obtén as cotizacións de bolsa a partires da url de referencia, devolvendo\n",
    "    os resultados nun obxecto dataframe    \n",
    "    '''\n",
    "    \n",
    "    # url de referencia\n",
    "    url = \"http://www.invertia.com/mercados/bolsa/indices/ibex-35/acciones-ib011ibex35\"\n",
    "\n",
    "    # obtemos unha response mediante a libraría request\n",
    "    r = requests.get(url)\n",
    "\n",
    "    # Extraemos texto HTML coa libraría BeautifulSoup\n",
    "    soup = BeautifulSoup(r.text)\n",
    "    t = soup.find(\"table\", { \"class\" : \"tb_fichas\" })\n",
    "\n",
    "    # Crease unha táboa personalizada nun obxecto lista    \n",
    "    myTable = []\n",
    "    \n",
    "    # Atopamos as filas da táboa HTML\n",
    "    filas = t.find_all(\"tr\")\n",
    "    \n",
    "    # Percorremos as filas\n",
    "    for idFila in range(len(filas)):\n",
    "        \n",
    "        # Créase unha fila personalizada nun obxecto lista\n",
    "        myRow =[]\n",
    "        if idFila == 0: # Cabeceiras\n",
    "            # Atopamos as cabeceiras da primeira fila\n",
    "            cabeceiras = filas[idFila].find_all(\"th\")\n",
    "            # Percorremos as columnas\n",
    "            for idCabeceira in range(len(cabeceiras)):\n",
    "                if idCabeceira != 4: # obviamos esta columna sen valores\n",
    "                    # Eliminanse os retornos de carro do texto das cabeceiras                \n",
    "                    cabeceiraLimpa = cabeceiras[idCabeceira].text.replace(\"\\n\", \"\")\n",
    "                    myRow.append(cabeceiraLimpa)\n",
    "        else:\n",
    "            # Atopamos as celdas de cada fila\n",
    "            celas = filas[idFila].find_all(\"td\")\n",
    "            # Percorremos as columnas\n",
    "            for idCela in range(len(celas)):\n",
    "                if idCela != 4: # obviamos esta columna sen valores\n",
    "                    myRow.append(celas[idCela].text)\n",
    "        # Engádese a fila á táboa\n",
    "        myTable.append(myRow)\n",
    "\n",
    "    # Créase un dataframe a partires da táboa para manexar os datos        \n",
    "    df = pd.DataFrame(myTable[1:], index=None, columns=myTable[0])\n",
    "    \n",
    "    return df"
   ]
  },
  {
   "cell_type": "markdown",
   "metadata": {},
   "source": [
    "### Función getIdentificadorBursatil(identificador)\n",
    "\n",
    "Esta función encárgase de realizar a obtención da táboa de datos para posteriormente buscar os correspondentes á cotización do índice solicitado polo usuario, que se lle pasa coma parámetro. Unha vez atopados, preséntaos en liñas consecutivas por pantalla, indicando ademáis, a data e hora da consulta. No caso de non atopar o índice demandado notifícao por pantalla. "
   ]
  },
  {
   "cell_type": "code",
   "execution_count": null,
   "metadata": {
    "collapsed": true
   },
   "outputs": [],
   "source": [
    "def getIdentificadorBursatil(identificador):\n",
    "    ''' Obtén as cotizacións de bolsa dun índice seleccionado '''    \n",
    "    \n",
    "    # Obtén as cotizacións de bolsa totais    \n",
    "    df = getBolsa()\n",
    "    \n",
    "    # Comproba se existe o índice\n",
    "    for indice in range(len(df)): \n",
    "        if df.ix[indice][\"TKR*\"] == identificador:\n",
    "            '''\n",
    "            Devolve a data (ano, mes, día,  hora, minuto, segundo) xunto \n",
    "            co resultado da consulta\n",
    "            '''\n",
    "            print(\"{0}\\n{1} {2}\\n{3}\\n{4}\\n\".format(\"*\"*80, \\\n",
    "                  time.strftime(\"%d/%m/%Y %H:%M:%S\"), \"*\"*60, \"*\"*80, \\\n",
    "                  df.ix[indice:indice]))           \n",
    "            '''\n",
    "            # Outro formato alternativo\n",
    "            print(\"{0}\".format(df.ix[indice:indice]))\n",
    "            '''\n",
    "            return True\n",
    "            \n",
    "    print('\\nÍndice \"{0}\" non atopado\\n'.format(identificador))\n",
    "    return False"
   ]
  },
  {
   "cell_type": "code",
   "execution_count": null,
   "metadata": {
    "collapsed": true
   },
   "outputs": [],
   "source": []
  }
 ],
 "metadata": {
  "kernelspec": {
   "display_name": "Python 3",
   "language": "python",
   "name": "python3"
  },
  "language_info": {
   "codemirror_mode": {
    "name": "ipython",
    "version": 3
   },
   "file_extension": ".py",
   "mimetype": "text/x-python",
   "name": "python",
   "nbconvert_exporter": "python",
   "pygments_lexer": "ipython3",
   "version": "3.4.3"
  }
 },
 "nbformat": 4,
 "nbformat_minor": 0
}
